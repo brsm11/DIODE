{
 "cells": [
  {
   "cell_type": "code",
   "execution_count": 97,
   "metadata": {},
   "outputs": [],
   "source": [
    "#Import needed libraries\n",
    "import pandas as pd\n",
    "import numpy as np\n",
    "import matplotlib.pyplot as plt"
   ]
  },
  {
   "cell_type": "code",
   "execution_count": 68,
   "metadata": {},
   "outputs": [],
   "source": [
    "#Load Data file\n",
    "#This is the file contaning all K9 Toss and Fetch data from the beginning of the leauge till end of 2019\n",
    "fname = 'league scores full master 1-14-20.xlsx'\n",
    "allseasons = pd.read_excel(fname,sheet_name='All Time by SEASONS', header=6)"
   ]
  },
  {
   "cell_type": "code",
   "execution_count": 69,
   "metadata": {},
   "outputs": [],
   "source": [
    "#Handle missing last names\n",
    "allseasons['Last '] = allseasons['Last '].fillna('')\n",
    "\n",
    "#Create new column with full name\n",
    "firstn = allseasons['First '].to_numpy()\n",
    "lastn = allseasons['Last '].to_numpy()\n",
    "fulln = firstn +' '+ lastn\n",
    "allseasons['Full_Name']= pd.DataFrame(fulln)"
   ]
  },
  {
   "cell_type": "code",
   "execution_count": 83,
   "metadata": {},
   "outputs": [],
   "source": [
    "def get_databyseason(season, data):\n",
    "    '''This function can be used to find the total number of unique players in a given season\n",
    "        It takes the requested  season in form 001-YYYY-SEASON and the dataFrame containing \n",
    "        the season information.\n",
    "        This function returns a dataframe containg all info for the given season'''\n",
    "    \n",
    "    dfseason = data[data['Season']==season]\n",
    "    return dfseason\n",
    "    "
   ]
  },
  {
   "cell_type": "code",
   "execution_count": 90,
   "metadata": {},
   "outputs": [],
   "source": [
    "dseason='001-2015-FALL'\n",
    "singleseason = get_databyseason(dseason, allseasons)\n"
   ]
  },
  {
   "cell_type": "code",
   "execution_count": 91,
   "metadata": {},
   "outputs": [],
   "source": [
    "def count_players(data):\n",
    "    '''This function counts the number of unique players calculated by unique player names.\n",
    "       This function takes a pandas dataframe  and returns the total number of unique players'''\n",
    "    players = data.Full_Name.unique()\n",
    "    size = np.size(players)\n",
    "    return size\n",
    "    "
   ]
  },
  {
   "cell_type": "code",
   "execution_count": 92,
   "metadata": {},
   "outputs": [
    {
     "name": "stdout",
     "output_type": "stream",
     "text": [
      "50\n"
     ]
    }
   ],
   "source": [
    "print(count_players(singleseason))"
   ]
  },
  {
   "cell_type": "code",
   "execution_count": 96,
   "metadata": {},
   "outputs": [
    {
     "name": "stdout",
     "output_type": "stream",
     "text": [
      "[50, 113, 118, 106, 164, 432, 398, 546, 633, 472, 874, 900, 964, 1161, 820, 1478, 1523, 1441, 1333]\n"
     ]
    }
   ],
   "source": [
    "#array containing all season strings\n",
    "seasons = allseasons.Season.unique()\n",
    "#array containing count of seasons\n",
    "p_count =[]\n",
    "for s in seasons:\n",
    "    data = get_databyseason(s, allseasons)\n",
    "    p_count.append(count_players(data))\n",
    "print(p_count)\n",
    "    "
   ]
  },
  {
   "cell_type": "code",
   "execution_count": 101,
   "metadata": {},
   "outputs": [
    {
     "name": "stdout",
     "output_type": "stream",
     "text": [
      "[ 1  2  3  4  5  6  7  8  9 10 11 12 13 14 15 16 17 18 19]\n"
     ]
    }
   ],
   "source": [
    "%matplotlib inline\n",
    "season_num = np.arange(1,20)\n",
    "print (season_num)"
   ]
  },
  {
   "cell_type": "code",
   "execution_count": 104,
   "metadata": {},
   "outputs": [
    {
     "data": {
      "image/png": "[encoded data removed]",
      "text/plain": [
       "<Figure size 432x288 with 1 Axes>"
      ]
     },
     "metadata": {
      "needs_background": "light"
     },
     "output_type": "display_data"
    }
   ],
   "source": [
    "plt.plot(season_num, p_count)\n",
    "xi = season_num\n",
    "plt.xlabel('Season Number')\n",
    "plt.ylabel('Number of Players')\n",
    "plt.xticks(xi, season_num)\n",
    "plt.show()"
   ]
  },
  {
   "cell_type": "code",
   "execution_count": null,
   "metadata": {},
   "outputs": [],
   "source": []
  }
 ],
 "metadata": {
  "kernelspec": {
   "display_name": "Python 3",
   "language": "python",
   "name": "python3"
  },
  "language_info": {
   "codemirror_mode": {
    "name": "ipython",
    "version": 3
   },
   "file_extension": ".py",
   "mimetype": "text/x-python",
   "name": "python",
   "nbconvert_exporter": "python",
   "pygments_lexer": "ipython3",
   "version": "3.7.6"
  }
 },
 "nbformat": 4,
 "nbformat_minor": 4
}
