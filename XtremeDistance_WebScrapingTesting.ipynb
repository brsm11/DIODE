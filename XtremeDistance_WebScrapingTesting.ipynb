{
 "cells": [
  {
   "cell_type": "code",
   "execution_count": 1,
   "metadata": {},
   "outputs": [],
   "source": [
    "from bs4 import BeautifulSoup\n",
    "from urllib.request import urlopen\n",
    "import re\n",
    "import pandas as pd"
   ]
  },
  {
   "cell_type": "code",
   "execution_count": 2,
   "metadata": {},
   "outputs": [],
   "source": [
    "# let's grab html from page listing links to individual year results\n",
    "html_outer = urlopen(\"https://skyhoundz.com/previous-competition-results/\")\n",
    "\n",
    "# turn it to soup\n",
    "soup_outer = BeautifulSoup(html_outer,'html.parser')\n",
    "\n",
    "# view it\n",
    "# print(soup_outer.prettify())"
   ]
  },
  {
   "cell_type": "code",
   "execution_count": 3,
   "metadata": {},
   "outputs": [
    {
     "data": {
      "text/plain": [
       "['https://skyhoundz.com/2020-skyhoundz-classic-results/',\n",
       " 'https://skyhoundz.com/2019-skyhoundz-classic-results/',\n",
       " 'https://skyhoundz.com/2018-skyhoundz-classic-results/',\n",
       " 'https://skyhoundz.com/2017-skyhoundz-classic-results/',\n",
       " 'https://skyhoundz.com/2016-skyhoundz-classic-results/',\n",
       " 'https://skyhoundz.com/2015-skyhoundz-classic-results/',\n",
       " 'https://skyhoundz.com/2014-skyhoundz-classic-results/',\n",
       " 'https://skyhoundz.com/2013-skyhoundz-classic-results/',\n",
       " 'https://skyhoundz.com/2012-skyhoundz-classic-results/',\n",
       " 'https://skyhoundz.com/2011-skyhoundz-classic-results/',\n",
       " 'https://skyhoundz.com/2010-skyhoundz-classic-results/',\n",
       " 'https://skyhoundz.com/2009-skyhoundz-classic-results/',\n",
       " 'https://skyhoundz.com/2008-skyhoundz-classic-results/',\n",
       " 'https://skyhoundz.com/2007-skyhoundz-classic-results/',\n",
       " 'https://skyhoundz.com/2006-skyhoundz-classic-results/',\n",
       " 'https://skyhoundz.com/2005-skyhoundz-classic-results/',\n",
       " 'https://skyhoundz.com/2004-skyhoundz-classic-results/',\n",
       " 'https://skyhoundz.com/2003-skyhoundz-classic-results/',\n",
       " 'https://skyhoundz.com/2002-skyhoundz-classic-results/',\n",
       " 'https://skyhoundz.com/2001-skyhoundz-classic-results/',\n",
       " 'https://skyhoundz.com/2000-skyhoundz-classic-results/']"
      ]
     },
     "execution_count": 3,
     "metadata": {},
     "output_type": "execute_result"
    }
   ],
   "source": [
    "# store each link that connects to a page of xtreme distance results\n",
    "result_links = []\n",
    "\n",
    "for a in soup_outer.find_all('a'):\n",
    "    if re.search('skyhoundz-classic-results',a['href']):\n",
    "        result_links.append(a['href'])\n",
    "\n",
    "result_links"
   ]
  },
  {
   "cell_type": "code",
   "execution_count": 4,
   "metadata": {},
   "outputs": [],
   "source": [
    "######### eventually hoping to loop through these links and scrape tables from each page #########\n",
    "\n"
   ]
  },
  {
   "cell_type": "code",
   "execution_count": 5,
   "metadata": {},
   "outputs": [],
   "source": [
    "#### let's pull one table from the 2019 results page\n",
    "html_inner = urlopen(result_links[1])\n",
    "soup_inner = BeautifulSoup(html_inner,'html.parser')\n",
    "# print(soup_inner.prettify())"
   ]
  },
  {
   "cell_type": "code",
   "execution_count": 6,
   "metadata": {},
   "outputs": [],
   "source": [
    "def get_data(html):\n",
    "    data = []\n",
    "    with urlopen(html) as fp:\n",
    "        soup = BeautifulSoup(fp, 'html.parser')\n",
    "        rows = soup.find_all('tr') #Find all table row tags\n",
    "        for row in rows: #For each row in that tag\n",
    "            cols = row.find_all('td') #Find all the columns\n",
    "            cols = [ele.text.strip() for ele in cols]  #Trim the junk off the cols\n",
    "            data.append([ele if ele else '' for ele in cols])   #Append while ignoring empty vals\n",
    "    return data\n",
    "\n",
    "def parse_data(data):\n",
    "    titles = []\n",
    "    tables = {}\n",
    "    for row in data:\n",
    "        if len(row) == 1:\n",
    "            current_title = row[0]\n",
    "            tables[current_title] = []\n",
    "            titles.append(current_title)\n",
    "        elif len(row) != 0:\n",
    "            tables[current_title].append(row)\n",
    "    return(titles, tables)\n"
   ]
  },
  {
   "cell_type": "code",
   "execution_count": 8,
   "metadata": {},
   "outputs": [
    {
     "name": "stdout",
     "output_type": "stream",
     "text": [
      "2019 / World Championship / Chattanooga, Tennessee / 9/22/2019 / Open\n",
      "2019 / World Championship / Chattanooga, Tennessee / 9/22/2019 / Open (MicroDog)\n",
      "2019 / World Championship / Chattanooga, Tennessee / 9/22/2019 / Open (Youth)\n",
      "2019 / World Championship / Chattanooga, Tennessee / 9/22/2019 / Pairs\n",
      "2019 / World Championship / Chattanooga, Tennessee / 9/22/2019 / Sport\n",
      "2019 / World Championship / Chattanooga, Tennessee / 9/22/2019 / Sport (MicroDog)\n",
      "2019 / Last Chance Qualifier / Chattanooga, Tennessee / 9/20/2019 / Open\n",
      "2019 / Last Chance Qualifier / Chattanooga, Tennessee / 9/20/2019 / Open (MicroDog)\n",
      "2019 / Last Chance Qualifier / Chattanooga, Tennessee / 9/20/2019 / Open (Youth)\n",
      "2019 / Last Chance Qualifier / Chattanooga, Tennessee / 9/20/2019 / Pairs\n",
      "2019 / Last Chance Qualifier / Chattanooga, Tennessee / 9/20/2019 / Sport\n",
      "2019 / Last Chance Qualifier / Chattanooga, Tennessee / 9/20/2019 / Sport (MicroDog)\n",
      "2019 / Open Qualifier / Auburn, Washington / 8/17/2019 / Open\n",
      "2019 / Open Qualifier / Auburn, Washington / 8/17/2019 / Open (MicroDog)\n",
      "2019 / Open Qualifier / Auburn, Washington / 8/17/2019 / Open (Youth)\n",
      "2019 / Open Qualifier / Auburn, Washington / 8/17/2019 / Pairs\n",
      "2019 / Open Qualifier / Auburn, Washington / 8/17/2019 / Sport\n",
      "2019 / Open Qualifier / Auburn, Washington / 8/17/2019 / Sport (MicroDog)\n",
      "2019 / Open Qualifier / Gretna, Virginia / 8/17/2019 / Open\n",
      "2019 / Open Qualifier / Gretna, Virginia / 8/17/2019 / Open (MicroDog)\n",
      "2019 / Open Qualifier / Gretna, Virginia / 8/17/2019 / Open (Youth)\n",
      "2019 / Open Qualifier / Gretna, Virginia / 8/17/2019 / Pairs\n",
      "2019 / Open Qualifier / Gretna, Virginia / 8/17/2019 / Sport\n",
      "2019 / Open Qualifier / Gretna, Virginia / 8/17/2019 / Sport (MicroDog)\n",
      "2019 / Open Qualifier / Cookstown, Ontario, Canada / 8/11/2019 / Open\n",
      "2019 / Open Qualifier / Cookstown, Ontario, Canada / 8/11/2019 / Open (MicroDog)\n",
      "2019 / Open Qualifier / Cookstown, Ontario, Canada / 8/11/2019 / Open (Youth)\n",
      "2019 / Open Qualifier / Cookstown, Ontario, Canada / 8/11/2019 / Pairs\n",
      "2019 / Open Qualifier / Cookstown, Ontario, Canada / 8/11/2019 / Sport\n",
      "2019 / Open Qualifier / Cookstown, Ontario, Canada / 8/11/2019 / Sport (MicroDog)\n",
      "2019 / Open Qualifier / Norman, Oklahoma / 8/11/2019 / Open\n",
      "2019 / Open Qualifier / Norman, Oklahoma / 8/11/2019 / Sport\n",
      "2019 / Open Qualifier / Norman, Oklahoma / 8/11/2019 / Sport (MicroDog)\n",
      "2019 / Open Qualifier / Dacula, Georgia / 8/10/2019 / Open\n",
      "2019 / Open Qualifier / Dacula, Georgia / 8/10/2019 / Open (MicroDog)\n",
      "2019 / Open Qualifier / Dacula, Georgia / 8/10/2019 / Pairs\n",
      "2019 / Open Qualifier / Dacula, Georgia / 8/10/2019 / Sport\n",
      "2019 / Open Qualifier / Dacula, Georgia / 8/10/2019 / Sport (MicroDog)\n",
      "2019 / Open Qualifier / Fairport Harbor, Ohio / 8/10/2019 / Open\n",
      "2019 / Open Qualifier / Fairport Harbor, Ohio / 8/10/2019 / Open (MicroDog)\n",
      "2019 / Open Qualifier / Fairport Harbor, Ohio / 8/10/2019 / Pairs\n",
      "2019 / Open Qualifier / Fairport Harbor, Ohio / 8/10/2019 / Sport\n",
      "2019 / Open Qualifier / Fairport Harbor, Ohio / 8/10/2019 / Sport (MicroDog)\n",
      "2019 / Open Qualifier / Davison, Michigan / 8/3/2019 / Open\n",
      "2019 / Open Qualifier / Davison, Michigan / 8/3/2019 / Open (MicroDog)\n",
      "2019 / Open Qualifier / Davison, Michigan / 8/3/2019 / Pairs\n",
      "2019 / Open Qualifier / Davison, Michigan / 8/3/2019 / Sport\n",
      "2019 / Open Qualifier / Davison, Michigan / 8/3/2019 / Sport (MicroDog)\n",
      "2019 / Open Qualifier / Accident, Maryland / 7/27/2019 / Open\n",
      "2019 / Open Qualifier / Accident, Maryland / 7/27/2019 / Open (MicroDog)\n",
      "2019 / Open Qualifier / Accident, Maryland / 7/27/2019 / Sport\n",
      "2019 / Open Qualifier / Accident, Maryland / 7/27/2019 / Sport (MicroDog)\n",
      "2019 / Open Qualifier / Kirtland, Ohio / 7/13/2019 / Open\n",
      "2019 / Open Qualifier / Kirtland, Ohio / 7/13/2019 / Open (MicroDog)\n",
      "2019 / Open Qualifier / Kirtland, Ohio / 7/13/2019 / Sport\n",
      "2019 / Open Qualifier / Kirtland, Ohio / 7/13/2019 / Sport (MicroDog)\n",
      "2019 / Open Qualifier / Dacula, Georgia / 7/6/2019 / Open\n",
      "2019 / Open Qualifier / Dacula, Georgia / 7/6/2019 / Open (MicroDog)\n",
      "2019 / Open Qualifier / Dacula, Georgia / 7/6/2019 / Pairs\n",
      "2019 / Open Qualifier / Dacula, Georgia / 7/6/2019 / Sport\n",
      "2019 / Open Qualifier / Dacula, Georgia / 7/6/2019 / Sport (MicroDog)\n",
      "2019 / International Qualifier / Aylmer, Ontario, Canada / 6/29/2019 / Open\n",
      "2019 / International Qualifier / Aylmer, Ontario, Canada / 6/29/2019 / Open (MicroDog)\n",
      "2019 / International Qualifier / Aylmer, Ontario, Canada / 6/29/2019 / Pairs\n",
      "2019 / International Qualifier / Aylmer, Ontario, Canada / 6/29/2019 / Sport\n",
      "2019 / International Qualifier / Aylmer, Ontario, Canada / 6/29/2019 / Sport (MicroDog)\n",
      "2019 / International Qualifier / Combita, Boyacá, Colombia / 6/22/2019 / Open\n",
      "2019 / International Qualifier / Combita, Boyacá, Colombia / 6/22/2019 / Open (MicroDog)\n",
      "2019 / International Qualifier / Combita, Boyacá, Colombia / 6/22/2019 / Open (Youth)\n",
      "2019 / International Qualifier / Combita, Boyacá, Colombia / 6/22/2019 / Pairs\n",
      "2019 / International Qualifier / Combita, Boyacá, Colombia / 6/22/2019 / Sport\n",
      "2019 / International Qualifier / Combita, Boyacá, Colombia / 6/22/2019 / Sport (MicroDog)\n",
      "2019 / Open Qualifier / Gray Summit, Missouri / 6/15/2019 / Open\n",
      "2019 / Open Qualifier / Gray Summit, Missouri / 6/15/2019 / Open (MicroDog)\n",
      "2019 / Open Qualifier / Gray Summit, Missouri / 6/15/2019 / Open (Youth)\n",
      "2019 / Open Qualifier / Gray Summit, Missouri / 6/15/2019 / Pairs\n",
      "2019 / Open Qualifier / Gray Summit, Missouri / 6/15/2019 / Sport\n",
      "2019 / Open Qualifier / Gray Summit, Missouri / 6/15/2019 / Sport (MicroDog)\n",
      "2019 / Open Qualifier / Lawrence, Kansas / 6/9/2019 / Open\n",
      "2019 / Open Qualifier / Lawrence, Kansas / 6/9/2019 / Open (MicroDog)\n",
      "2019 / Open Qualifier / Lawrence, Kansas / 6/9/2019 / Open (Youth)\n",
      "2019 / Open Qualifier / Lawrence, Kansas / 6/9/2019 / Pairs\n",
      "2019 / Open Qualifier / Lawrence, Kansas / 6/9/2019 / Sport\n",
      "2019 / Open Qualifier / Lawrence, Kansas / 6/9/2019 / Sport (MicroDog)\n",
      "2019 / Open Qualifier / Thornton, Colorado / 6/9/2019 / Open\n",
      "2019 / Open Qualifier / Thornton, Colorado / 6/9/2019 / Open (MicroDog)\n",
      "2019 / Open Qualifier / Thornton, Colorado / 6/9/2019 / Pairs\n",
      "2019 / Open Qualifier / Thornton, Colorado / 6/9/2019 / Sport\n",
      "2019 / Open Qualifier / Thornton, Colorado / 6/9/2019 / Sport (MicroDog)\n",
      "2019 / Open Qualifier / Jamaica, Virginia / 6/8/2019 / Open\n",
      "2019 / Open Qualifier / Jamaica, Virginia / 6/8/2019 / Open (MicroDog)\n",
      "2019 / Open Qualifier / Jamaica, Virginia / 6/8/2019 / Open (Youth)\n",
      "2019 / Open Qualifier / Jamaica, Virginia / 6/8/2019 / Sport\n",
      "2019 / Open Qualifier / Jamaica, Virginia / 6/8/2019 / Sport (MicroDog)\n",
      "2019 / Open Qualifier / Kirtland, Ohio / 6/8/2019 / Open\n",
      "2019 / Open Qualifier / Kirtland, Ohio / 6/8/2019 / Open (Youth)\n",
      "2019 / Open Qualifier / Kirtland, Ohio / 6/8/2019 / Pairs\n",
      "2019 / Open Qualifier / Kirtland, Ohio / 6/8/2019 / Sport\n",
      "2019 / Open Qualifier / Kirtland, Ohio / 6/8/2019 / Sport (MicroDog)\n",
      "2019 / International Qualifier / Cookstown, Ontario, Canada / 6/1/2019 / Open\n",
      "2019 / International Qualifier / Cookstown, Ontario, Canada / 6/1/2019 / Open (MicroDog)\n",
      "2019 / International Qualifier / Cookstown, Ontario, Canada / 6/1/2019 / Pairs\n",
      "2019 / International Qualifier / Cookstown, Ontario, Canada / 6/1/2019 / Sport\n",
      "2019 / International Qualifier / Cookstown, Ontario, Canada / 6/1/2019 / Sport (MicroDog)\n",
      "2019 / European Championship / Rome, Italy / 6/1/2019 / Open\n",
      "2019 / European Championship / Rome, Italy / 6/1/2019 / Open (MicroDog)\n",
      "2019 / European Championship / Rome, Italy / 6/1/2019 / Open (Youth)\n",
      "2019 / European Championship / Rome, Italy / 6/1/2019 / Pairs\n",
      "2019 / European Championship / Rome, Italy / 6/1/2019 / Sport\n",
      "2019 / European Championship / Rome, Italy / 6/1/2019 / Sport (MicroDog)\n",
      "2019 / Open Qualifier / Tipp City, Ohio / 6/1/2019 / Open\n",
      "2019 / Open Qualifier / Tipp City, Ohio / 6/1/2019 / Open (MicroDog)\n",
      "2019 / Open Qualifier / Tipp City, Ohio / 6/1/2019 / Pairs\n",
      "2019 / Open Qualifier / Tipp City, Ohio / 6/1/2019 / Sport\n",
      "2019 / Open Qualifier / Tipp City, Ohio / 6/1/2019 / Sport (MicroDog)\n",
      "2019 / International Qualifier / Clifford, Ontario, Canada / 5/26/2019 / Open\n",
      "2019 / International Qualifier / Clifford, Ontario, Canada / 5/26/2019 / Pairs\n",
      "2019 / International Qualifier / Clifford, Ontario, Canada / 5/26/2019 / Sport\n",
      "2019 / International Qualifier / Clifford, Ontario, Canada / 5/26/2019 / Sport (MicroDog)\n",
      "2019 / Open Qualifier / Clifford, Ontario, Canada / 5/26/2019 / Open\n",
      "2019 / Open Qualifier / Clifford, Ontario, Canada / 5/26/2019 / Open (MicroDog)\n",
      "2019 / Open Qualifier / Clifford, Ontario, Canada / 5/26/2019 / Pairs\n",
      "2019 / Open Qualifier / Clifford, Ontario, Canada / 5/26/2019 / Sport\n",
      "2019 / Open Qualifier / Clifford, Ontario, Canada / 5/26/2019 / Sport (MicroDog)\n",
      "2019 / Open Qualifier / Covina, California / 5/25/2019 / Open\n",
      "2019 / Open Qualifier / Covina, California / 5/25/2019 / Open (MicroDog)\n",
      "2019 / Open Qualifier / Covina, California / 5/25/2019 / Open (Youth)\n",
      "2019 / Open Qualifier / Covina, California / 5/25/2019 / Pairs\n",
      "2019 / Open Qualifier / Covina, California / 5/25/2019 / Sport\n",
      "2019 / Open Qualifier / Covina, California / 5/25/2019 / Sport (MicroDog)\n",
      "2019 / Open Qualifier / Frankenmuth, Michigan / 5/25/2019 / Open\n",
      "2019 / Open Qualifier / Frankenmuth, Michigan / 5/25/2019 / Open (MicroDog)\n",
      "2019 / Open Qualifier / Frankenmuth, Michigan / 5/25/2019 / Pairs\n",
      "2019 / Open Qualifier / Frankenmuth, Michigan / 5/25/2019 / Sport\n",
      "2019 / Open Qualifier / Frankenmuth, Michigan / 5/25/2019 / Sport (MicroDog)\n",
      "2019 / Open Qualifier / Greer, South Carolina / 5/25/2019 / Open\n",
      "2019 / Open Qualifier / Greer, South Carolina / 5/25/2019 / Open (MicroDog)\n",
      "2019 / Open Qualifier / Greer, South Carolina / 5/25/2019 / Sport\n",
      "2019 / Open Qualifier / Greer, South Carolina / 5/25/2019 / Sport (MicroDog)\n",
      "2019 / Open Qualifier / Reading, Pennsylvania / 5/25/2019 / Open\n",
      "2019 / Open Qualifier / Reading, Pennsylvania / 5/25/2019 / Open (MicroDog)\n",
      "2019 / Open Qualifier / Reading, Pennsylvania / 5/25/2019 / Open (Youth)\n",
      "2019 / Open Qualifier / Reading, Pennsylvania / 5/25/2019 / Pairs\n",
      "2019 / Open Qualifier / Reading, Pennsylvania / 5/25/2019 / Sport\n",
      "2019 / Open Qualifier / Reading, Pennsylvania / 5/25/2019 / Sport (MicroDog)\n",
      "2019 / Open Qualifier / Palm Coast, Florida / 5/11/2019 / Open\n",
      "2019 / Open Qualifier / Palm Coast, Florida / 5/11/2019 / Open (MicroDog)\n",
      "2019 / Open Qualifier / Palm Coast, Florida / 5/11/2019 / Sport\n",
      "2019 / Open Qualifier / Palm Coast, Florida / 5/11/2019 / Sport (MicroDog)\n",
      "2019 / International Qualifier / Sopo, Cundinamarca, Colombia / 5/4/2019 / Open\n",
      "2019 / International Qualifier / Sopo, Cundinamarca, Colombia / 5/4/2019 / Pairs\n",
      "2019 / International Qualifier / Sopo, Cundinamarca, Colombia / 5/4/2019 / Sport\n",
      "2019 / Open Qualifier / Grapevine, Texas / 4/28/2019 / Open\n",
      "2019 / Open Qualifier / Grapevine, Texas / 4/28/2019 / Open (MicroDog)\n",
      "2019 / Open Qualifier / Grapevine, Texas / 4/28/2019 / Pairs\n",
      "2019 / Open Qualifier / Grapevine, Texas / 4/28/2019 / Sport\n",
      "2019 / Open Qualifier / Grapevine, Texas / 4/28/2019 / Sport (MicroDog)\n",
      "2019 / International Qualifier / Clinton Township, Michigan / 4/27/2019 / Open\n",
      "2019 / International Qualifier / Clinton Township, Michigan / 4/27/2019 / Open (MicroDog)\n",
      "2019 / International Qualifier / Clinton Township, Michigan / 4/27/2019 / Pairs\n",
      "2019 / International Qualifier / Clinton Township, Michigan / 4/27/2019 / Sport\n",
      "2019 / International Qualifier / Clinton Township, Michigan / 4/27/2019 / Sport (MicroDog)\n",
      "2019 / Open Qualifier / Clinton Township, Michigan / 4/27/2019 / Open\n",
      "2019 / Open Qualifier / Clinton Township, Michigan / 4/27/2019 / Open (MicroDog)\n",
      "2019 / Open Qualifier / Clinton Township, Michigan / 4/27/2019 / Pairs\n",
      "2019 / Open Qualifier / Clinton Township, Michigan / 4/27/2019 / Sport\n",
      "2019 / Open Qualifier / Clinton Township, Michigan / 4/27/2019 / Sport (MicroDog)\n",
      "2019 / International Qualifier / Merlo, Buenos Aires, Argentina / 4/21/2019 / Open\n",
      "2019 / International Qualifier / Merlo, Buenos Aires, Argentina / 4/21/2019 / Open (MicroDog)\n",
      "2019 / International Qualifier / Merlo, Buenos Aires, Argentina / 4/21/2019 / Sport\n",
      "2019 / Open Qualifier / Fallbrook, California / 3/23/2019 / Open\n",
      "2019 / Open Qualifier / Fallbrook, California / 3/23/2019 / Open (MicroDog)\n",
      "2019 / Open Qualifier / Fallbrook, California / 3/23/2019 / Open (Youth)\n",
      "2019 / Open Qualifier / Fallbrook, California / 3/23/2019 / Pairs\n",
      "2019 / Open Qualifier / Fallbrook, California / 3/23/2019 / Sport\n",
      "2019 / Open Qualifier / Fallbrook, California / 3/23/2019 / Sport (MicroDog)\n",
      "2019 / International Qualifier / Cota, Colombia / 3/16/2019 / Open\n",
      "2019 / International Qualifier / Cota, Colombia / 3/16/2019 / Open (Youth)\n",
      "2019 / Open Qualifier / Cota, Colombia / 3/16/2019 / Sport\n",
      "2019 / Open Qualifier / Spring Hill, Florida / 3/9/2019 / Open\n",
      "2019 / Open Qualifier / Spring Hill, Florida / 3/9/2019 / Open (MicroDog)\n",
      "2019 / Open Qualifier / Spring Hill, Florida / 3/9/2019 / Open (Youth)\n",
      "2019 / Open Qualifier / Spring Hill, Florida / 3/9/2019 / Pairs\n",
      "2019 / Open Qualifier / Spring Hill, Florida / 3/9/2019 / Sport\n",
      "2019 / Open Qualifier / Statesboro, Georgia / 2/16/2019 / Open\n",
      "2019 / Open Qualifier / Statesboro, Georgia / 2/16/2019 / Pairs\n",
      "2019 / Open Qualifier / Statesboro, Georgia / 2/16/2019 / Sport\n",
      "2019 / Open Qualifier / Jacksonville, Florida / 2/9/2019 / Open\n",
      "2019 / Open Qualifier / Jacksonville, Florida / 2/9/2019 / Open (MicroDog)\n",
      "2019 / Open Qualifier / Jacksonville, Florida / 2/9/2019 / Pairs\n",
      "2019 / Open Qualifier / Jacksonville, Florida / 2/9/2019 / Sport\n",
      "2019 / Open Qualifier / Jacksonville, Florida / 2/9/2019 / Sport (MicroDog)\n",
      "2019 / MicroDog Open / Dacula, Georgia / 12/22/2018 / Open\n",
      "2019 / Open Qualifier / Dacula, Georgia / 12/22/2018 / Open\n",
      "2019 / Open Qualifier / Dacula, Georgia / 12/22/2018 / Sport\n",
      "2019 / Open Qualifier / Dacula, Georgia / 12/22/2018 / Sport (MicroDog)\n",
      "2019 / Open Qualifier / Spring Hill, Florida / 11/10/2018 / Open\n",
      "2019 / Open Qualifier / Spring Hill, Florida / 11/10/2018 / Open (MicroDog)\n",
      "2019 / Open Qualifier / Spring Hill, Florida / 11/10/2018 / Open (Youth)\n",
      "2019 / Open Qualifier / Spring Hill, Florida / 11/10/2018 / Pairs\n",
      "2019 / Open Qualifier / Spring Hill, Florida / 11/10/2018 / Sport\n",
      "2019 / Open Qualifier / Spring Hill, Florida / 11/10/2018 / Sport (MicroDog)\n",
      "2019 / International Qualifier / Maschwitz, Buenos Aires, Argentina / 11/4/2018 / Open\n",
      "2019 / Open Qualifier / Maschwitz, Buenos Aires, Argentina / 11/4/2018 / Sport\n",
      "2019 / Open Qualifier / Maschwitz, Buenos Aires, Argentina / 11/4/2018 / Sport (MicroDog)\n",
      "2019 / International Qualifier / Charter Twp of Clinton / 10/20/2018 / Open\n",
      "2019 / International Qualifier / Charter Twp of Clinton / 10/20/2018 / Open (MicroDog)\n",
      "2019 / International Qualifier / Charter Twp of Clinton / 10/20/2018 / Open (Youth)\n",
      "2019 / International Qualifier / Charter Twp of Clinton / 10/20/2018 / Pairs\n",
      "2019 / International Qualifier / Charter Twp of Clinton / 10/20/2018 / Sport\n",
      "2019 / International Qualifier / Charter Twp of Clinton / 10/20/2018 / Sport (MicroDog)\n",
      "2019 / Open Qualifier / Charter Twp of Clinton / 10/20/2018 / Open\n",
      "2019 / Open Qualifier / Charter Twp of Clinton / 10/20/2018 / Open (MicroDog)\n",
      "2019 / Open Qualifier / Charter Twp of Clinton / 10/20/2018 / Open (Youth)\n",
      "2019 / Open Qualifier / Charter Twp of Clinton / 10/20/2018 / Sport\n",
      "2019 / Open Qualifier / Charter Twp of Clinton / 10/20/2018 / Sport (MicroDog)\n",
      "2019 / Open Qualifier / Gapyeong, Gyeonggi, South Korea / 10/14/2018 / Open\n",
      "2019 / Open Qualifier / Gapyeong, Gyeonggi, South Korea / 10/14/2018 / Open (MicroDog)\n",
      "2019 / Open Qualifier / Gapyeong, Gyeonggi, South Korea / 10/14/2018 / Open (Youth)\n",
      "2019 / Open Qualifier / Gapyeong, Gyeonggi, South Korea / 10/14/2018 / Pairs\n",
      "2019 / Open Qualifier / Gapyeong, Gyeonggi, South Korea / 10/14/2018 / Sport\n",
      "2019 / Open Qualifier / Gapyeong, Gyeonggi, South Korea / 10/14/2018 / Sport (MicroDog)\n",
      "2019 / Open Qualifier / Dacula, Georgia / 9/1/2018 / Open\n",
      "2019 / Open Qualifier / Dacula, Georgia / 9/1/2018 / Open (MicroDog)\n",
      "2019 / Open Qualifier / Dacula, Georgia / 9/1/2018 / Sport\n",
      "2019 / Open Qualifier / Dacula, Georgia / 9/1/2018 / Sport (MicroDog)\n"
     ]
    }
   ],
   "source": [
    "data = get_data(result_links[1])\n",
    "titles, tables = parse_data(data)\n",
    "for title in tables:\n",
    "    print(title)"
   ]
  },
  {
   "cell_type": "code",
   "execution_count": 9,
   "metadata": {
    "scrolled": true
   },
   "outputs": [
    {
     "data": {
      "text/plain": [
       "['1',\n",
       " 'Dean Werts & Glamour',\n",
       " '9.5',\n",
       " '10.0',\n",
       " '10.0',\n",
       " '9.5',\n",
       " '39.0',\n",
       " '15.0',\n",
       " '9.0',\n",
       " '9.5',\n",
       " '9.5',\n",
       " '8.5',\n",
       " '36.5',\n",
       " '90.5',\n",
       " '']"
      ]
     },
     "execution_count": 9,
     "metadata": {},
     "output_type": "execute_result"
    }
   ],
   "source": [
    "tables[titles[1]][0]"
   ]
  },
  {
   "cell_type": "code",
   "execution_count": 10,
   "metadata": {},
   "outputs": [
    {
     "data": {
      "text/plain": [
       "'2019 / World Championship / Chattanooga, Tennessee / 9/22/2019 / Open'"
      ]
     },
     "execution_count": 10,
     "metadata": {},
     "output_type": "execute_result"
    }
   ],
   "source": [
    "titles[0]"
   ]
  },
  {
   "cell_type": "code",
   "execution_count": 11,
   "metadata": {},
   "outputs": [
    {
     "data": {
      "text/plain": [
       "['2019', 'World Championship', 'Chattanooga, Tennessee', '9/22/2019', 'Open']"
      ]
     },
     "execution_count": 11,
     "metadata": {},
     "output_type": "execute_result"
    }
   ],
   "source": [
    "titles[0].split(\" / \")"
   ]
  },
  {
   "cell_type": "code",
   "execution_count": 12,
   "metadata": {},
   "outputs": [],
   "source": [
    "# appends the descriptors stored in title to the lists and creates pd df of that subtable\n",
    "# subtables added to existing df for j>0\n",
    "def get_pandas(titles_in, tables_in):\n",
    "    for j in range(len(tables_in)):\n",
    "        for i in range(len(tables_in[titles_in[j]])):\n",
    "            desc = titles_in[j].split(\" / \")\n",
    "            for string in desc:\n",
    "                tables_in[titles_in[j]][i].append(string)\n",
    "        if j==0:\n",
    "            t = pd.DataFrame(tables_in[titles_in[j]], \n",
    "                              columns=['Placement','Team','Score','TitleEligibile','Year','Event','Date','Division'])\n",
    "        else:\n",
    "            t = t.append(pd.DataFrame(tables_in[titles_in[j]], \n",
    "                       columns=['Placement','Team','Score','TitleEligibile',\n",
    "                                'Year','Event','Date','Division']))\n",
    "    return t"
   ]
  },
  {
   "cell_type": "code",
   "execution_count": 13,
   "metadata": {},
   "outputs": [],
   "source": [
    "# this function pulls all Xtreme Distance data from Skyhoundz website\n",
    "\n",
    "def XtremeDist_WebScrape():\n",
    "    # let's grab html from page listing links to individual year results\n",
    "    html_outer = urlopen(\"https://skyhoundz.com/previous-competition-results/\")\n",
    "\n",
    "    # turn it to soup\n",
    "    soup_outer = BeautifulSoup(html_outer,'html.parser')\n",
    "    \n",
    "    # gather each link containing xtreme distance results\n",
    "    result_links = []\n",
    "    for a in soup_outer.find_all('a'):\n",
    "        if re.search('skyhoundz-classic-results',a['href']):\n",
    "            result_links.append(a['href'])\n",
    "    \n",
    "    # the following loop cycles through each url containing results (1 page per year of results)\n",
    "    # and creates pandas dataframe of all results combined\n",
    "    for k in range(len(result_links)):\n",
    "    \n",
    "        html_inner = urlopen(result_links[k])\n",
    "        soup_inner = BeautifulSoup(html_inner,'html.parser')\n",
    "    \n",
    "        data = get_data(result_links[k])\n",
    "        titles, tables = parse_data(data)\n",
    "    \n",
    "        if k == 0:\n",
    "            p = get_pandas(titles, tables)\n",
    "        else:\n",
    "            p = p.append(get_pandas(titles, tables))\n",
    "        \n",
    "    return p"
   ]
  },
  {
   "cell_type": "code",
   "execution_count": 14,
   "metadata": {},
   "outputs": [
    {
     "ename": "ValueError",
     "evalue": "8 columns passed, passed data had 20 columns",
     "output_type": "error",
     "traceback": [
      "\u001b[1;31m---------------------------------------------------------------------------\u001b[0m",
      "\u001b[1;31mAssertionError\u001b[0m                            Traceback (most recent call last)",
      "\u001b[1;32m~\\Anaconda3\\lib\\site-packages\\pandas\\core\\internals\\construction.py\u001b[0m in \u001b[0;36m_list_to_arrays\u001b[1;34m(data, columns, coerce_float, dtype)\u001b[0m\n\u001b[0;32m    496\u001b[0m         result = _convert_object_array(\n\u001b[1;32m--> 497\u001b[1;33m             \u001b[0mcontent\u001b[0m\u001b[1;33m,\u001b[0m \u001b[0mcolumns\u001b[0m\u001b[1;33m,\u001b[0m \u001b[0mdtype\u001b[0m\u001b[1;33m=\u001b[0m\u001b[0mdtype\u001b[0m\u001b[1;33m,\u001b[0m \u001b[0mcoerce_float\u001b[0m\u001b[1;33m=\u001b[0m\u001b[0mcoerce_float\u001b[0m\u001b[1;33m\u001b[0m\u001b[1;33m\u001b[0m\u001b[0m\n\u001b[0m\u001b[0;32m    498\u001b[0m         )\n",
      "\u001b[1;32m~\\Anaconda3\\lib\\site-packages\\pandas\\core\\internals\\construction.py\u001b[0m in \u001b[0;36m_convert_object_array\u001b[1;34m(content, columns, coerce_float, dtype)\u001b[0m\n\u001b[0;32m    580\u001b[0m             raise AssertionError(\n\u001b[1;32m--> 581\u001b[1;33m                 \u001b[1;34mf\"{len(columns)} columns passed, passed data had \"\u001b[0m\u001b[1;33m\u001b[0m\u001b[1;33m\u001b[0m\u001b[0m\n\u001b[0m\u001b[0;32m    582\u001b[0m                 \u001b[1;34mf\"{len(content)} columns\"\u001b[0m\u001b[1;33m\u001b[0m\u001b[1;33m\u001b[0m\u001b[0m\n",
      "\u001b[1;31mAssertionError\u001b[0m: 8 columns passed, passed data had 20 columns",
      "\nThe above exception was the direct cause of the following exception:\n",
      "\u001b[1;31mValueError\u001b[0m                                Traceback (most recent call last)",
      "\u001b[1;32m<ipython-input-14-ada111923e03>\u001b[0m in \u001b[0;36m<module>\u001b[1;34m\u001b[0m\n\u001b[1;32m----> 1\u001b[1;33m \u001b[0mdat\u001b[0m \u001b[1;33m=\u001b[0m \u001b[0mXtremeDist_WebScrape\u001b[0m\u001b[1;33m(\u001b[0m\u001b[1;33m)\u001b[0m\u001b[1;33m\u001b[0m\u001b[1;33m\u001b[0m\u001b[0m\n\u001b[0m\u001b[0;32m      2\u001b[0m \u001b[0mdat\u001b[0m\u001b[1;33m\u001b[0m\u001b[1;33m\u001b[0m\u001b[0m\n",
      "\u001b[1;32m<ipython-input-13-244df8d0bce9>\u001b[0m in \u001b[0;36mXtremeDist_WebScrape\u001b[1;34m()\u001b[0m\n\u001b[0;32m     25\u001b[0m \u001b[1;33m\u001b[0m\u001b[0m\n\u001b[0;32m     26\u001b[0m         \u001b[1;32mif\u001b[0m \u001b[0mk\u001b[0m \u001b[1;33m==\u001b[0m \u001b[1;36m0\u001b[0m\u001b[1;33m:\u001b[0m\u001b[1;33m\u001b[0m\u001b[1;33m\u001b[0m\u001b[0m\n\u001b[1;32m---> 27\u001b[1;33m             \u001b[0mp\u001b[0m \u001b[1;33m=\u001b[0m \u001b[0mget_pandas\u001b[0m\u001b[1;33m(\u001b[0m\u001b[0mtitles\u001b[0m\u001b[1;33m,\u001b[0m \u001b[0mtables\u001b[0m\u001b[1;33m)\u001b[0m\u001b[1;33m\u001b[0m\u001b[1;33m\u001b[0m\u001b[0m\n\u001b[0m\u001b[0;32m     28\u001b[0m         \u001b[1;32melse\u001b[0m\u001b[1;33m:\u001b[0m\u001b[1;33m\u001b[0m\u001b[1;33m\u001b[0m\u001b[0m\n\u001b[0;32m     29\u001b[0m             \u001b[0mp\u001b[0m \u001b[1;33m=\u001b[0m \u001b[0mp\u001b[0m\u001b[1;33m.\u001b[0m\u001b[0mappend\u001b[0m\u001b[1;33m(\u001b[0m\u001b[0mget_pandas\u001b[0m\u001b[1;33m(\u001b[0m\u001b[0mtitles\u001b[0m\u001b[1;33m,\u001b[0m \u001b[0mtables\u001b[0m\u001b[1;33m)\u001b[0m\u001b[1;33m)\u001b[0m\u001b[1;33m\u001b[0m\u001b[1;33m\u001b[0m\u001b[0m\n",
      "\u001b[1;32m<ipython-input-12-655b070e4839>\u001b[0m in \u001b[0;36mget_pandas\u001b[1;34m(titles_in, tables_in)\u001b[0m\n\u001b[0;32m      9\u001b[0m         \u001b[1;32mif\u001b[0m \u001b[0mj\u001b[0m\u001b[1;33m==\u001b[0m\u001b[1;36m0\u001b[0m\u001b[1;33m:\u001b[0m\u001b[1;33m\u001b[0m\u001b[1;33m\u001b[0m\u001b[0m\n\u001b[0;32m     10\u001b[0m             t = pd.DataFrame(tables_in[titles_in[j]], \n\u001b[1;32m---> 11\u001b[1;33m                               columns=['Placement','Team','Score','TitleEligibile','Year','Event','Date','Division'])\n\u001b[0m\u001b[0;32m     12\u001b[0m         \u001b[1;32melse\u001b[0m\u001b[1;33m:\u001b[0m\u001b[1;33m\u001b[0m\u001b[1;33m\u001b[0m\u001b[0m\n\u001b[0;32m     13\u001b[0m             t = t.append(pd.DataFrame(tables_in[titles_in[j]], \n",
      "\u001b[1;32m~\\Anaconda3\\lib\\site-packages\\pandas\\core\\frame.py\u001b[0m in \u001b[0;36m__init__\u001b[1;34m(self, data, index, columns, dtype, copy)\u001b[0m\n\u001b[0;32m    472\u001b[0m                     \u001b[1;32mif\u001b[0m \u001b[0mis_named_tuple\u001b[0m\u001b[1;33m(\u001b[0m\u001b[0mdata\u001b[0m\u001b[1;33m[\u001b[0m\u001b[1;36m0\u001b[0m\u001b[1;33m]\u001b[0m\u001b[1;33m)\u001b[0m \u001b[1;32mand\u001b[0m \u001b[0mcolumns\u001b[0m \u001b[1;32mis\u001b[0m \u001b[1;32mNone\u001b[0m\u001b[1;33m:\u001b[0m\u001b[1;33m\u001b[0m\u001b[1;33m\u001b[0m\u001b[0m\n\u001b[0;32m    473\u001b[0m                         \u001b[0mcolumns\u001b[0m \u001b[1;33m=\u001b[0m \u001b[0mdata\u001b[0m\u001b[1;33m[\u001b[0m\u001b[1;36m0\u001b[0m\u001b[1;33m]\u001b[0m\u001b[1;33m.\u001b[0m\u001b[0m_fields\u001b[0m\u001b[1;33m\u001b[0m\u001b[1;33m\u001b[0m\u001b[0m\n\u001b[1;32m--> 474\u001b[1;33m                     \u001b[0marrays\u001b[0m\u001b[1;33m,\u001b[0m \u001b[0mcolumns\u001b[0m \u001b[1;33m=\u001b[0m \u001b[0mto_arrays\u001b[0m\u001b[1;33m(\u001b[0m\u001b[0mdata\u001b[0m\u001b[1;33m,\u001b[0m \u001b[0mcolumns\u001b[0m\u001b[1;33m,\u001b[0m \u001b[0mdtype\u001b[0m\u001b[1;33m=\u001b[0m\u001b[0mdtype\u001b[0m\u001b[1;33m)\u001b[0m\u001b[1;33m\u001b[0m\u001b[1;33m\u001b[0m\u001b[0m\n\u001b[0m\u001b[0;32m    475\u001b[0m                     \u001b[0mcolumns\u001b[0m \u001b[1;33m=\u001b[0m \u001b[0mensure_index\u001b[0m\u001b[1;33m(\u001b[0m\u001b[0mcolumns\u001b[0m\u001b[1;33m)\u001b[0m\u001b[1;33m\u001b[0m\u001b[1;33m\u001b[0m\u001b[0m\n\u001b[0;32m    476\u001b[0m \u001b[1;33m\u001b[0m\u001b[0m\n",
      "\u001b[1;32m~\\Anaconda3\\lib\\site-packages\\pandas\\core\\internals\\construction.py\u001b[0m in \u001b[0;36mto_arrays\u001b[1;34m(data, columns, coerce_float, dtype)\u001b[0m\n\u001b[0;32m    459\u001b[0m         \u001b[1;32mreturn\u001b[0m \u001b[1;33m[\u001b[0m\u001b[1;33m]\u001b[0m\u001b[1;33m,\u001b[0m \u001b[1;33m[\u001b[0m\u001b[1;33m]\u001b[0m  \u001b[1;31m# columns if columns is not None else []\u001b[0m\u001b[1;33m\u001b[0m\u001b[1;33m\u001b[0m\u001b[0m\n\u001b[0;32m    460\u001b[0m     \u001b[1;32mif\u001b[0m \u001b[0misinstance\u001b[0m\u001b[1;33m(\u001b[0m\u001b[0mdata\u001b[0m\u001b[1;33m[\u001b[0m\u001b[1;36m0\u001b[0m\u001b[1;33m]\u001b[0m\u001b[1;33m,\u001b[0m \u001b[1;33m(\u001b[0m\u001b[0mlist\u001b[0m\u001b[1;33m,\u001b[0m \u001b[0mtuple\u001b[0m\u001b[1;33m)\u001b[0m\u001b[1;33m)\u001b[0m\u001b[1;33m:\u001b[0m\u001b[1;33m\u001b[0m\u001b[1;33m\u001b[0m\u001b[0m\n\u001b[1;32m--> 461\u001b[1;33m         \u001b[1;32mreturn\u001b[0m \u001b[0m_list_to_arrays\u001b[0m\u001b[1;33m(\u001b[0m\u001b[0mdata\u001b[0m\u001b[1;33m,\u001b[0m \u001b[0mcolumns\u001b[0m\u001b[1;33m,\u001b[0m \u001b[0mcoerce_float\u001b[0m\u001b[1;33m=\u001b[0m\u001b[0mcoerce_float\u001b[0m\u001b[1;33m,\u001b[0m \u001b[0mdtype\u001b[0m\u001b[1;33m=\u001b[0m\u001b[0mdtype\u001b[0m\u001b[1;33m)\u001b[0m\u001b[1;33m\u001b[0m\u001b[1;33m\u001b[0m\u001b[0m\n\u001b[0m\u001b[0;32m    462\u001b[0m     \u001b[1;32melif\u001b[0m \u001b[0misinstance\u001b[0m\u001b[1;33m(\u001b[0m\u001b[0mdata\u001b[0m\u001b[1;33m[\u001b[0m\u001b[1;36m0\u001b[0m\u001b[1;33m]\u001b[0m\u001b[1;33m,\u001b[0m \u001b[0mabc\u001b[0m\u001b[1;33m.\u001b[0m\u001b[0mMapping\u001b[0m\u001b[1;33m)\u001b[0m\u001b[1;33m:\u001b[0m\u001b[1;33m\u001b[0m\u001b[1;33m\u001b[0m\u001b[0m\n\u001b[0;32m    463\u001b[0m         return _list_of_dict_to_arrays(\n",
      "\u001b[1;32m~\\Anaconda3\\lib\\site-packages\\pandas\\core\\internals\\construction.py\u001b[0m in \u001b[0;36m_list_to_arrays\u001b[1;34m(data, columns, coerce_float, dtype)\u001b[0m\n\u001b[0;32m    498\u001b[0m         )\n\u001b[0;32m    499\u001b[0m     \u001b[1;32mexcept\u001b[0m \u001b[0mAssertionError\u001b[0m \u001b[1;32mas\u001b[0m \u001b[0me\u001b[0m\u001b[1;33m:\u001b[0m\u001b[1;33m\u001b[0m\u001b[1;33m\u001b[0m\u001b[0m\n\u001b[1;32m--> 500\u001b[1;33m         \u001b[1;32mraise\u001b[0m \u001b[0mValueError\u001b[0m\u001b[1;33m(\u001b[0m\u001b[0me\u001b[0m\u001b[1;33m)\u001b[0m \u001b[1;32mfrom\u001b[0m \u001b[0me\u001b[0m\u001b[1;33m\u001b[0m\u001b[1;33m\u001b[0m\u001b[0m\n\u001b[0m\u001b[0;32m    501\u001b[0m     \u001b[1;32mreturn\u001b[0m \u001b[0mresult\u001b[0m\u001b[1;33m\u001b[0m\u001b[1;33m\u001b[0m\u001b[0m\n\u001b[0;32m    502\u001b[0m \u001b[1;33m\u001b[0m\u001b[0m\n",
      "\u001b[1;31mValueError\u001b[0m: 8 columns passed, passed data had 20 columns"
     ]
    }
   ],
   "source": [
    "dat = XtremeDist_WebScrape()\n",
    "dat"
   ]
  },
  {
   "cell_type": "code",
   "execution_count": 18,
   "metadata": {},
   "outputs": [],
   "source": [
    "#dat.to_csv('C:/Users/Amber/Documents/Projects/DIODE/data/XtremeDistanceResults.csv')"
   ]
  },
  {
   "cell_type": "code",
   "execution_count": null,
   "metadata": {},
   "outputs": [],
   "source": []
  }
 ],
 "metadata": {
  "kernelspec": {
   "display_name": "Python 3",
   "language": "python",
   "name": "python3"
  },
  "language_info": {
   "codemirror_mode": {
    "name": "ipython",
    "version": 3
   },
   "file_extension": ".py",
   "mimetype": "text/x-python",
   "name": "python",
   "nbconvert_exporter": "python",
   "pygments_lexer": "ipython3",
   "version": "3.7.6"
  }
 },
 "nbformat": 4,
 "nbformat_minor": 4
}
