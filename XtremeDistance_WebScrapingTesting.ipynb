{
 "cells": [
  {
   "cell_type": "code",
   "execution_count": 2,
   "metadata": {},
   "outputs": [],
   "source": [
    "from bs4 import BeautifulSoup\n",
    "from urllib.request import urlopen\n",
    "import re"
   ]
  },
  {
   "cell_type": "code",
   "execution_count": 3,
   "metadata": {},
   "outputs": [],
   "source": [
    "# let's grab html from page listing links to individual year results\n",
    "html_outer = urlopen(\"https://skyhoundz.com/previous-competition-results/\")\n",
    "\n",
    "# turn it to soup\n",
    "soup_outer = BeautifulSoup(html_outer,'html.parser')\n",
    "\n",
    "# view it\n",
    "# print(soup_outer.prettify())"
   ]
  },
  {
   "cell_type": "code",
   "execution_count": 4,
   "metadata": {},
   "outputs": [
    {
     "data": {
      "text/plain": [
       "['https://skyhoundz.com/2020-xtreme-distance-results/',\n",
       " 'https://skyhoundz.com/2019-xtreme-distance-results/',\n",
       " 'https://skyhoundz.com/2018-xtreme-distance-results/',\n",
       " 'https://skyhoundz.com/2017-xtreme-distance-results/',\n",
       " 'https://skyhoundz.com/2016-xtreme-distance-results/',\n",
       " 'https://skyhoundz.com/2015-xtreme-distance-results/',\n",
       " 'https://skyhoundz.com/2014-xtreme-distance-results/',\n",
       " 'https://skyhoundz.com/2013-xtreme-distance-results/',\n",
       " 'https://skyhoundz.com/2012-xtreme-distance-results/',\n",
       " 'https://skyhoundz.com/2011-xtreme-distance-results/']"
      ]
     },
     "execution_count": 4,
     "metadata": {},
     "output_type": "execute_result"
    }
   ],
   "source": [
    "# store each link that connects to a page of xtreme distance results\n",
    "result_links = []\n",
    "\n",
    "for a in soup_outer.find_all('a'):\n",
    "    if re.search('xtreme-distance-results',a['href']):\n",
    "        result_links.append(a['href'])\n",
    "\n",
    "result_links"
   ]
  },
  {
   "cell_type": "code",
   "execution_count": 5,
   "metadata": {},
   "outputs": [],
   "source": [
    "######### eventually hoping to loop through these links and scrape tables from each page #########\n",
    "\n"
   ]
  },
  {
   "cell_type": "code",
   "execution_count": null,
   "metadata": {},
   "outputs": [],
   "source": []
  },
  {
   "cell_type": "code",
   "execution_count": null,
   "metadata": {},
   "outputs": [],
   "source": []
  }
 ],
 "metadata": {
  "kernelspec": {
   "display_name": "Python 3",
   "language": "python",
   "name": "python3"
  },
  "language_info": {
   "codemirror_mode": {
    "name": "ipython",
    "version": 3
   },
   "file_extension": ".py",
   "mimetype": "text/x-python",
   "name": "python",
   "nbconvert_exporter": "python",
   "pygments_lexer": "ipython3",
   "version": "3.7.6"
  }
 },
 "nbformat": 4,
 "nbformat_minor": 4
}
